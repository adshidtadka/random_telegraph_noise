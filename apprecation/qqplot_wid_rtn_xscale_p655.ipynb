{
 "cells": [
  {
   "cell_type": "code",
   "execution_count": 212,
   "metadata": {
    "collapsed": true
   },
   "outputs": [],
   "source": [
    "#!/usr/bin/env python3\n",
    "# -*- coding: utf-8 -*-\n",
    "import pandas as pd\n",
    "import numpy as np\n",
    "import scipy.io as sio \n",
    "import scipy\n",
    "from scipy import stats\n",
    "from scipy.stats import norm # normal distribution\n",
    "from scipy import optimize\n",
    "\n",
    "import matplotlib\n",
    "import matplotlib.pyplot as plt\n",
    "\n",
    "import math\n",
    "import os\n",
    "import random"
   ]
  },
  {
   "cell_type": "code",
   "execution_count": 213,
   "metadata": {
    "collapsed": false
   },
   "outputs": [
    {
     "name": "stdout",
     "output_type": "stream",
     "text": [
      "../chip02/p655/180518_ch02v050r02d3_int44_time10000.mat\n"
     ]
    }
   ],
   "source": [
    "# read paths\n",
    "directory = os.listdir('../chip02/p655')\n",
    "directory.sort()\n",
    "print('../chip02/p655/' + directory[0])"
   ]
  },
  {
   "cell_type": "code",
   "execution_count": 214,
   "metadata": {
    "collapsed": false
   },
   "outputs": [],
   "source": [
    "# read binary data\n",
    "data = []\n",
    "for k, v in enumerate(directory):\n",
    "    data.append(sio.loadmat('../chip02/p655/' + directory[k]))"
   ]
  },
  {
   "cell_type": "code",
   "execution_count": 215,
   "metadata": {
    "collapsed": false
   },
   "outputs": [],
   "source": [
    "# prepare lists\n",
    "fmax_ary = []\n",
    "dfof_ary = []\n",
    "wid_data = []\n",
    "wid_pp = []\n",
    "rtn_pp = []\n",
    "rtn_pp_arr = []\n",
    "df = []\n",
    "for k, v in enumerate(data):\n",
    "    fmax_ary.append(np.array([]))\n",
    "    dfof_ary.append(np.array([]))"
   ]
  },
  {
   "cell_type": "code",
   "execution_count": 216,
   "metadata": {
    "collapsed": false,
    "scrolled": true
   },
   "outputs": [],
   "source": [
    "# Extract WID and RTN data\n",
    "for k, v in enumerate(data):\n",
    "    dfof_ary[k] = pd.DataFrame(columns=['slot_num', 'delta_f'])\n",
    "    for key, value in data[k].items():\n",
    "        if key[0] == '_':\n",
    "            continue\n",
    "        fmax_ary[k] = np.append(fmax_ary[k], value.max())\n",
    "        dfof_ary[k].loc[key] = [round(int(key.replace('s', ''))), (value.max() - value.min()) / value.max()]\n",
    "    wid_data.append((fmax_ary[k] - fmax_ary[k].mean()) / fmax_ary[k].mean() * 100)\n",
    "    wid_pp.append(stats.probplot(wid_data[k]))\n",
    "    # wid_pp.append(stats.probplot(fmax_ary[k]))\n",
    "    dfof_ary[k] = dfof_ary[k].sort_values('delta_f')\n",
    "    dfof_ary[k]['y'] = stats.probplot(dfof_ary[k]['delta_f'])[0][0].tolist()\n",
    "    dfof_ary[k]['x'] = stats.probplot(dfof_ary[k]['delta_f'])[0][1].tolist()\n",
    "#     print(np.corrcoef(wid_data[k], dfof_ary[k]))"
   ]
  },
  {
   "cell_type": "markdown",
   "metadata": {},
   "source": [
    "# 最小二乗法を用いて近似式を導出"
   ]
  },
  {
   "cell_type": "code",
   "execution_count": 217,
   "metadata": {
    "collapsed": false
   },
   "outputs": [
    {
     "data": {
      "text/html": [
       "<div>\n",
       "<table border=\"1\" class=\"dataframe\">\n",
       "  <thead>\n",
       "    <tr style=\"text-align: right;\">\n",
       "      <th></th>\n",
       "      <th>a</th>\n",
       "      <th>b</th>\n",
       "      <th>$\\sigma$</th>\n",
       "      <th>$\\mu$</th>\n",
       "      <th>y_min</th>\n",
       "      <th>y_max</th>\n",
       "      <th>x_min</th>\n",
       "      <th>x_max</th>\n",
       "    </tr>\n",
       "  </thead>\n",
       "  <tbody>\n",
       "    <tr>\n",
       "      <th>N=140</th>\n",
       "      <td>3.319282</td>\n",
       "      <td>13.013758</td>\n",
       "      <td>0.301270</td>\n",
       "      <td>-3.920654</td>\n",
       "      <td>-2.905721</td>\n",
       "      <td>2.905721</td>\n",
       "      <td>0.008262</td>\n",
       "      <td>0.047585</td>\n",
       "    </tr>\n",
       "    <tr>\n",
       "      <th>N=280</th>\n",
       "      <td>4.034902</td>\n",
       "      <td>17.169270</td>\n",
       "      <td>0.247837</td>\n",
       "      <td>-4.255188</td>\n",
       "      <td>-2.905721</td>\n",
       "      <td>2.905721</td>\n",
       "      <td>0.006906</td>\n",
       "      <td>0.029158</td>\n",
       "    </tr>\n",
       "    <tr>\n",
       "      <th>N=560</th>\n",
       "      <td>4.655244</td>\n",
       "      <td>21.432948</td>\n",
       "      <td>0.214811</td>\n",
       "      <td>-4.604043</td>\n",
       "      <td>-2.905721</td>\n",
       "      <td>2.905721</td>\n",
       "      <td>0.005363</td>\n",
       "      <td>0.018688</td>\n",
       "    </tr>\n",
       "    <tr>\n",
       "      <th>N=1120</th>\n",
       "      <td>5.885608</td>\n",
       "      <td>29.374513</td>\n",
       "      <td>0.169906</td>\n",
       "      <td>-4.990906</td>\n",
       "      <td>-2.905721</td>\n",
       "      <td>2.905721</td>\n",
       "      <td>0.004150</td>\n",
       "      <td>0.011140</td>\n",
       "    </tr>\n",
       "    <tr>\n",
       "      <th>N=2240</th>\n",
       "      <td>6.475380</td>\n",
       "      <td>34.640114</td>\n",
       "      <td>0.154431</td>\n",
       "      <td>-5.349511</td>\n",
       "      <td>-2.905721</td>\n",
       "      <td>2.905721</td>\n",
       "      <td>0.003033</td>\n",
       "      <td>0.007441</td>\n",
       "    </tr>\n",
       "  </tbody>\n",
       "</table>\n",
       "</div>"
      ],
      "text/plain": [
       "               a          b  $\\sigma$     $\\mu$     y_min     y_max     x_min  \\\n",
       "N=140   3.319282  13.013758  0.301270 -3.920654 -2.905721  2.905721  0.008262   \n",
       "N=280   4.034902  17.169270  0.247837 -4.255188 -2.905721  2.905721  0.006906   \n",
       "N=560   4.655244  21.432948  0.214811 -4.604043 -2.905721  2.905721  0.005363   \n",
       "N=1120  5.885608  29.374513  0.169906 -4.990906 -2.905721  2.905721  0.004150   \n",
       "N=2240  6.475380  34.640114  0.154431 -5.349511 -2.905721  2.905721  0.003033   \n",
       "\n",
       "           x_max  \n",
       "N=140   0.047585  \n",
       "N=280   0.029158  \n",
       "N=560   0.018688  \n",
       "N=1120  0.011140  \n",
       "N=2240  0.007441  "
      ]
     },
     "execution_count": 217,
     "metadata": {},
     "output_type": "execute_result"
    }
   ],
   "source": [
    "# 最小二乗法を用いて近似式を導出\n",
    "\n",
    "def fit_func(parameter,x,y):\n",
    "    a=parameter[0]\n",
    "    b=parameter[1]\n",
    "    residual=y-(a*x+b)\n",
    "    return residual\n",
    "\n",
    "parameter0=[-6,-4]\n",
    "\n",
    "least_squares_arr =[]\n",
    "for k, v in enumerate(data):\n",
    "    x_arr = np.log(dfof_ary[k]['x'].values)\n",
    "    y_arr = dfof_ary[k]['y'].values\n",
    "    result = scipy.optimize.leastsq(fit_func,parameter0,args=(x_arr,y_arr))[0].tolist()\n",
    "    \n",
    "    # y = a * log(x) + b を x = 変換\n",
    "    result.append(1/ result[0])\n",
    "    result.append(-result[1]/result[0]) \n",
    "    \n",
    "    # 近似直線用の2点    \n",
    "    result.append(min(dfof_ary[k]['y']))\n",
    "    result.append(max(dfof_ary[k]['y']))\n",
    "    \n",
    "    result.append(math.exp(min(dfof_ary[k]['y'])*result[2] + result[3]))\n",
    "    result.append(math.exp(max(dfof_ary[k]['y'])*result[2] + result[3]))\n",
    "    \n",
    "    least_squares_arr.append(result)\n",
    "df = pd.DataFrame(least_squares_arr, \n",
    "                                  index=['N=140', 'N=280', 'N=560', 'N=1120', 'N=2240'],\n",
    "                                  columns=['a', 'b', r'$\\sigma$', r'$\\mu$', 'y_min', 'y_max', 'x_min', 'x_max'])\n",
    "df"
   ]
  },
  {
   "cell_type": "code",
   "execution_count": 218,
   "metadata": {
    "collapsed": false,
    "scrolled": true
   },
   "outputs": [],
   "source": [
    "fig, ax = plt.subplots()\n",
    "plt.title(\"QQ-plot for P = 655\")\n",
    "plt.xscale(\"log\")\n",
    "font = {'size' : 21}\n",
    "matplotlib.rc('font', **font)\n",
    "# x = np.arange(-0.01, 0, 0.001)\n",
    "# print(x*4)\n",
    "# print(math.exp(df.iloc[0,0] + df.iloc[0,1]))\n",
    "# y = math.exp(df.iloc[0,0]*x + df.iloc[0,1])\n",
    "# print(y)\n",
    "# plt.plot(x, y)\n",
    "\n",
    "plt.plot([df.iat[0, 6], df.iat[0, 7]], [df.iat[0, 4], df.iat[0, 5]], color='blue')\n",
    "plt.plot([df.iat[1, 6], df.iat[1, 7]], [df.iat[1, 4], df.iat[1, 5]], color='red')\n",
    "plt.plot([df.iat[2, 6], df.iat[2, 7]], [df.iat[2, 4], df.iat[2, 5]], color='green')\n",
    "plt.plot([df.iat[3, 6], df.iat[3, 7]], [df.iat[3, 4], df.iat[3, 5]], color='orange')\n",
    "plt.plot([df.iat[4, 6], df.iat[4, 7]], [df.iat[4, 4], df.iat[4, 5]], color='yellow')\n",
    "\n",
    "dfof_ary[0].plot.scatter(x='x', y='y', s=20, label='N=140', ax=ax, color='blue',edgecolors='blue')\n",
    "dfof_ary[1].plot.scatter(x='x', y='y', s=20, label='N=280', ax=ax, color='red',edgecolors='red')\n",
    "dfof_ary[2].plot.scatter(x='x', y='y', s=20, label='N=560', ax=ax, color='green',edgecolors='green')\n",
    "dfof_ary[3].plot.scatter(x='x', y='y', s=20, label='N=1120', ax=ax, color='orange',edgecolors='orange')\n",
    "dfof_ary[4].plot.scatter(x='x', y='y', s=20, label='N=2240', ax=ax, color='yellow',edgecolors='yellow', figsize=(20,20))\n",
    "plt.xlabel(r'$\\Delta$' + 'F / Fmax')\n",
    "plt.xlim([0.003, 0.08])\n",
    "plt.ylabel(\"Normal theoretical quantile\")\n",
    "plt.legend(loc=\"lower right\")\n",
    "\n",
    "# annotation\n",
    "for k, v in enumerate(dfof_ary):\n",
    "    for index, row in dfof_ary[k].iterrows():\n",
    "        ax.annotate(row['slot_num'],xy=(row['x'],row['y']),size=1, fontsize=2, color='black')\n",
    "\n",
    "# plt.show()\n",
    "plt.savefig(\"../images/anotation/p655.pdf\")\n",
    "plt.close()"
   ]
  },
  {
   "cell_type": "markdown",
   "metadata": {},
   "source": [
    "# [参考]最小二乗法"
   ]
  },
  {
   "cell_type": "code",
   "execution_count": 17,
   "metadata": {
    "collapsed": true
   },
   "outputs": [],
   "source": [
    "def method_of_least_squares(x, y):\n",
    "    \"\"\"(docstring)\n",
    "    \"\"\"\n",
    "    # 最小二乗法の数式:\n",
    "    # y = bx + a (当記事で参考にした、東京大学出版会の『統計学入門』ではこの形)。\n",
    "    # b = Σxiyi - nxbarybar / Σxi^2 - nxbar^2\n",
    "    # a = ybar - bxbar\n",
    "\n",
    "    mean_x = np.mean(x)\n",
    "    mean_y = np.mean(y)\n",
    "    n = len(x)\n",
    "\n",
    "    b = (np.sum(x*y) - (n*mean_x*mean_y)) / (np.sum(x**2) - (n*mean_x**2))\n",
    "\n",
    "    a = mean_y - b*mean_x\n",
    "\n",
    "    return b, a"
   ]
  }
 ],
 "metadata": {
  "anaconda-cloud": {},
  "kernelspec": {
   "display_name": "Python [default]",
   "language": "python",
   "name": "python3"
  },
  "language_info": {
   "codemirror_mode": {
    "name": "ipython",
    "version": 3
   },
   "file_extension": ".py",
   "mimetype": "text/x-python",
   "name": "python",
   "nbconvert_exporter": "python",
   "pygments_lexer": "ipython3",
   "version": "3.5.2"
  }
 },
 "nbformat": 4,
 "nbformat_minor": 2
}
