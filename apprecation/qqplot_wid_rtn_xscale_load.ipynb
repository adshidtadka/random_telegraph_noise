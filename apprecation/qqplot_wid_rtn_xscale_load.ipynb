{
 "cells": [
  {
   "cell_type": "code",
   "execution_count": 9,
   "metadata": {
    "collapsed": true
   },
   "outputs": [],
   "source": [
    "#!/usr/bin/env python3\n",
    "# -*- coding: utf-8 -*-\n",
    "import pandas as pd\n",
    "import numpy as np\n",
    "import scipy.io as sio \n",
    "import scipy\n",
    "from scipy import stats\n",
    "from scipy.stats import norm # normal distribution\n",
    "from scipy import optimize\n",
    "\n",
    "import matplotlib\n",
    "import matplotlib.pyplot as plt\n",
    "\n",
    "import math\n",
    "import os\n",
    "import random"
   ]
  },
  {
   "cell_type": "code",
   "execution_count": 10,
   "metadata": {
    "collapsed": false
   },
   "outputs": [
    {
     "name": "stdout",
     "output_type": "stream",
     "text": [
      "../chip02/load/180522_ch02v050r46d3_int164_time10000.mat\n"
     ]
    }
   ],
   "source": [
    "# read paths\n",
    "directory = os.listdir('../chip02/load')\n",
    "directory.sort()\n",
    "print('../chip02/load/' + directory[0])"
   ]
  },
  {
   "cell_type": "code",
   "execution_count": 11,
   "metadata": {
    "collapsed": false
   },
   "outputs": [],
   "source": [
    "# read binary data\n",
    "data = []\n",
    "for k, v in enumerate(directory):\n",
    "    data.append(sio.loadmat('../chip02/load/' + directory[k]))"
   ]
  },
  {
   "cell_type": "code",
   "execution_count": 12,
   "metadata": {
    "collapsed": false
   },
   "outputs": [],
   "source": [
    "# prepare lists\n",
    "fmax_ary = []\n",
    "dfof_ary = []\n",
    "wid_data = []\n",
    "wid_pp = []\n",
    "rtn_pp = []\n",
    "rtn_pp_arr = []\n",
    "df = []\n",
    "for k, v in enumerate(data):\n",
    "    fmax_ary.append(np.array([]))\n",
    "    dfof_ary.append(np.array([]))"
   ]
  },
  {
   "cell_type": "code",
   "execution_count": 13,
   "metadata": {
    "collapsed": false
   },
   "outputs": [],
   "source": [
    "# Extract WID and RTN data\n",
    "for k, v in enumerate(data):\n",
    "    dfof_ary[k] = pd.DataFrame(columns=['slot_num', 'delta_f'])\n",
    "    for key, value in data[k].items():\n",
    "        if key[0] == '_':\n",
    "            continue\n",
    "        fmax_ary[k] = np.append(fmax_ary[k], value.max())\n",
    "        dfof_ary[k].loc[key] = [round(int(key.replace('s', ''))), (value.max() - value.min()) / value.max()]\n",
    "    wid_data.append((fmax_ary[k] - fmax_ary[k].mean()) / fmax_ary[k].mean() * 100)\n",
    "    wid_pp.append(stats.probplot(wid_data[k]))\n",
    "    # wid_pp.append(stats.probplot(fmax_ary[k]))\n",
    "    dfof_ary[k] = dfof_ary[k].sort_values('delta_f')\n",
    "    dfof_ary[k]['y'] = stats.probplot(dfof_ary[k]['delta_f'])[0][0].tolist()\n",
    "    dfof_ary[k]['x'] = stats.probplot(dfof_ary[k]['delta_f'])[0][1].tolist()\n",
    "#     print(np.corrcoef(wid_data[k], dfof_ary[k]))"
   ]
  },
  {
   "cell_type": "code",
   "execution_count": 14,
   "metadata": {
    "collapsed": false
   },
   "outputs": [
    {
     "data": {
      "text/html": [
       "<div>\n",
       "<table border=\"1\" class=\"dataframe\">\n",
       "  <thead>\n",
       "    <tr style=\"text-align: right;\">\n",
       "      <th></th>\n",
       "      <th>a</th>\n",
       "      <th>b</th>\n",
       "      <th>$\\sigma$</th>\n",
       "      <th>$\\mu$</th>\n",
       "      <th>y_min</th>\n",
       "      <th>y_max</th>\n",
       "      <th>x_min</th>\n",
       "      <th>x_max</th>\n",
       "    </tr>\n",
       "  </thead>\n",
       "  <tbody>\n",
       "    <tr>\n",
       "      <th>load=small</th>\n",
       "      <td>3.436520</td>\n",
       "      <td>14.213154</td>\n",
       "      <td>0.290992</td>\n",
       "      <td>-4.135915</td>\n",
       "      <td>-2.905721</td>\n",
       "      <td>2.905721</td>\n",
       "      <td>0.006864</td>\n",
       "      <td>0.037240</td>\n",
       "    </tr>\n",
       "    <tr>\n",
       "      <th>load=medium</th>\n",
       "      <td>3.512983</td>\n",
       "      <td>14.633828</td>\n",
       "      <td>0.284658</td>\n",
       "      <td>-4.165641</td>\n",
       "      <td>-2.905721</td>\n",
       "      <td>2.905721</td>\n",
       "      <td>0.006787</td>\n",
       "      <td>0.035490</td>\n",
       "    </tr>\n",
       "    <tr>\n",
       "      <th>load=large</th>\n",
       "      <td>3.493068</td>\n",
       "      <td>14.490517</td>\n",
       "      <td>0.286281</td>\n",
       "      <td>-4.148364</td>\n",
       "      <td>-2.905721</td>\n",
       "      <td>2.905721</td>\n",
       "      <td>0.006873</td>\n",
       "      <td>0.036279</td>\n",
       "    </tr>\n",
       "    <tr>\n",
       "      <th>load=none</th>\n",
       "      <td>2.800720</td>\n",
       "      <td>11.323411</td>\n",
       "      <td>0.357051</td>\n",
       "      <td>-4.043036</td>\n",
       "      <td>-2.905721</td>\n",
       "      <td>2.905721</td>\n",
       "      <td>0.006217</td>\n",
       "      <td>0.049512</td>\n",
       "    </tr>\n",
       "  </tbody>\n",
       "</table>\n",
       "</div>"
      ],
      "text/plain": [
       "                    a          b  $\\sigma$     $\\mu$     y_min     y_max  \\\n",
       "load=small   3.436520  14.213154  0.290992 -4.135915 -2.905721  2.905721   \n",
       "load=medium  3.512983  14.633828  0.284658 -4.165641 -2.905721  2.905721   \n",
       "load=large   3.493068  14.490517  0.286281 -4.148364 -2.905721  2.905721   \n",
       "load=none    2.800720  11.323411  0.357051 -4.043036 -2.905721  2.905721   \n",
       "\n",
       "                x_min     x_max  \n",
       "load=small   0.006864  0.037240  \n",
       "load=medium  0.006787  0.035490  \n",
       "load=large   0.006873  0.036279  \n",
       "load=none    0.006217  0.049512  "
      ]
     },
     "execution_count": 14,
     "metadata": {},
     "output_type": "execute_result"
    }
   ],
   "source": [
    "# 最小二乗法を用いて近似式を導出\n",
    "\n",
    "def fit_func(parameter,x,y):\n",
    "    a=parameter[0]\n",
    "    b=parameter[1]\n",
    "    residual=y-(a*x+b)\n",
    "    return residual\n",
    "\n",
    "parameter0=[-6,-4]\n",
    "\n",
    "least_squares_arr =[]\n",
    "for k, v in enumerate(data):\n",
    "    x_arr = np.log(dfof_ary[k]['x'].values)\n",
    "    y_arr = dfof_ary[k]['y'].values\n",
    "    result = scipy.optimize.leastsq(fit_func,parameter0,args=(x_arr,y_arr))[0].tolist()\n",
    "    \n",
    "    # y = a * log(x) + b を x = 変換\n",
    "    result.append(1/ result[0])\n",
    "    result.append(-result[1]/result[0]) \n",
    "    \n",
    "    # 近似直線用の2点    \n",
    "    result.append(min(dfof_ary[k]['y']))\n",
    "    result.append(max(dfof_ary[k]['y']))\n",
    "    \n",
    "    result.append(math.exp(min(dfof_ary[k]['y'])*result[2] + result[3]))\n",
    "    result.append(math.exp(max(dfof_ary[k]['y'])*result[2] + result[3]))\n",
    "    \n",
    "    least_squares_arr.append(result)\n",
    "df = pd.DataFrame(least_squares_arr, \n",
    "                                  index=['load=small', 'load=medium', 'load=large', 'load=none'],\n",
    "                                  columns=['a', 'b', r'$\\sigma$', r'$\\mu$', 'y_min', 'y_max', 'x_min', 'x_max'])\n",
    "df"
   ]
  },
  {
   "cell_type": "code",
   "execution_count": 17,
   "metadata": {
    "collapsed": false,
    "scrolled": true
   },
   "outputs": [],
   "source": [
    "fig, ax = plt.subplots()\n",
    "plt.title(\"QQ-plot for load\")\n",
    "plt.xscale(\"log\")\n",
    "\n",
    "font = {'size' : 21}\n",
    "matplotlib.rc('font', **font)\n",
    "\n",
    "plt.plot([df.iat[0, 6], df.iat[0, 7]], [df.iat[0, 4], df.iat[0, 5]], color='blue')\n",
    "plt.plot([df.iat[1, 6], df.iat[1, 7]], [df.iat[1, 4], df.iat[1, 5]], color='red')\n",
    "plt.plot([df.iat[2, 6], df.iat[2, 7]], [df.iat[2, 4], df.iat[2, 5]], color='green')\n",
    "plt.plot([df.iat[3, 6], df.iat[3, 7]], [df.iat[3, 4], df.iat[3, 5]], color='orange')\n",
    "\n",
    "dfof_ary[0].plot.scatter(x='x', y='y', s=20, label='load=small', ax=ax, color='blue',edgecolors='blue')\n",
    "dfof_ary[1].plot.scatter(x='x', y='y', s=20, label='load=medium', ax=ax, color='red',edgecolors='red')\n",
    "dfof_ary[2].plot.scatter(x='x', y='y', s=20, label='load=large', ax=ax, color='green',edgecolors='green')\n",
    "dfof_ary[3].plot.scatter(x='x', y='y', s=20, label='load=none', ax=ax, color='orange',edgecolors='orange', figsize=(20,20))\n",
    "plt.xlabel(r'$\\Delta$' + 'F / Fmax')\n",
    "plt.xlim([0.006, 0.07])\n",
    "plt.ylabel(\"Normal theoretical quantile\")\n",
    "\n",
    "# annotation\n",
    "for k, v in enumerate(dfof_ary):\n",
    "    for index, row in dfof_ary[k].iterrows():\n",
    "        ax.annotate(row['slot_num'],xy=(row['x'],row['y']),size=1, fontsize=2, color='black')\n",
    "\n",
    "# plt.show()\n",
    "plt.savefig(\"../images/anotation/load.pdf\")\n",
    "plt.close()"
   ]
  }
 ],
 "metadata": {
  "anaconda-cloud": {},
  "kernelspec": {
   "display_name": "Python [default]",
   "language": "python",
   "name": "python3"
  },
  "language_info": {
   "codemirror_mode": {
    "name": "ipython",
    "version": 3
   },
   "file_extension": ".py",
   "mimetype": "text/x-python",
   "name": "python",
   "nbconvert_exporter": "python",
   "pygments_lexer": "ipython3",
   "version": "3.5.2"
  }
 },
 "nbformat": 4,
 "nbformat_minor": 2
}
