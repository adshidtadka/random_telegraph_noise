{
 "cells": [
  {
   "cell_type": "code",
   "execution_count": 2,
   "metadata": {},
   "outputs": [
    {
     "name": "stdout",
     "output_type": "stream",
     "text": [
      "[[ 1.         -0.09653407]\n",
      " [-0.09653407  1.        ]]\n"
     ]
    },
    {
     "data": {
      "image/png": "[encoded data removed]",
      "text/plain": [
       "<Figure size 432x288 with 1 Axes>"
      ]
     },
     "metadata": {},
     "output_type": "display_data"
    }
   ],
   "source": [
    "#!/usr/bin/env python3\n",
    "# -*- coding: utf-8 -*-\n",
    "\"\"\"\n",
    "Created on Fri May 18 22:30:19 2018\n",
    "\n",
    "@author: mahfuz\n",
    "\"\"\"\n",
    "import numpy as np\n",
    "import scipy.io as sio \n",
    "from scipy import stats\n",
    "\n",
    "import matplotlib\n",
    "import matplotlib.pyplot as plt\n",
    "\n",
    "font = {'size' : 21}\n",
    "matplotlib.rc('font', **font)\n",
    "matplotlib.rcParams['lines.linewidth'] = 2\n",
    "\n",
    "# read binary data\n",
    "data = sio.loadmat('180518_ch02v050r16d3_int266_time10000.mat')\n",
    "\n",
    "# Extract WID and RTN data\n",
    "fmax_ary = np.array([])\n",
    "dfof_ary = np.array([])\n",
    "for key, value in data.items():\n",
    "    if key[0] == '_':\n",
    "        continue\n",
    "    \n",
    "    fmax_ary = np.append(fmax_ary, value.max())\n",
    "    dfof_ary = np.append(dfof_ary, (value.max() - value.min()) / value.max() * 100)\n",
    "\n",
    "wid_data = (fmax_ary - fmax_ary.mean()) / fmax_ary.mean() * 100\n",
    "wid_pp = stats.probplot(wid_data)\n",
    "rtn_pp = stats.probplot(dfof_ary)\n",
    "\n",
    "print(np.corrcoef(wid_data, dfof_ary))\n",
    "\n",
    "\n",
    "plt.cla()\n",
    "\n",
    "plt.hist(fmax_ary, 15)\n",
    "plt.xlabel('$f_\\mathrm{max}$ [a.u.]')\n",
    "plt.ylabel('Population')\n",
    "\n",
    "#plt.hist(dfof_ary, 20)\n",
    "#plt.xlabel('$\\Delta f / f$ [%]')\n",
    "#plt.ylabel('Population')\n",
    "\n",
    "#plt.plot(wid_pp[0][1], wid_pp[0][0], 'ko', markersize=10, label='WID')\n",
    "#plt.plot(rtn_pp[0][1], rtn_pp[0][0], 'b^', markersize=10, label='RTN')\n",
    "\n",
    "#plt.plot(fmax_ary, dfof_ary, 'ko', markersize=12)\n",
    "\n",
    "#plt.xlabel('$f_\\mathrm{max}$ [a.u.]')\n",
    "#plt.ylabel('$\\Delta f / f$ [%]')\n",
    "\n",
    "\n",
    "#plt.legend()\n",
    "#plt.grid()\n",
    "plt.show()\n"
   ]
  },
  {
   "cell_type": "code",
   "execution_count": null,
   "metadata": {},
   "outputs": [],
   "source": []
  }
 ],
 "metadata": {
  "kernelspec": {
   "display_name": "Python 3",
   "language": "python",
   "name": "python3"
  },
  "language_info": {
   "codemirror_mode": {
    "name": "ipython",
    "version": 3
   },
   "file_extension": ".py",
   "mimetype": "text/x-python",
   "name": "python",
   "nbconvert_exporter": "python",
   "pygments_lexer": "ipython3",
   "version": "3.6.4"
  }
 },
 "nbformat": 4,
 "nbformat_minor": 2
}
