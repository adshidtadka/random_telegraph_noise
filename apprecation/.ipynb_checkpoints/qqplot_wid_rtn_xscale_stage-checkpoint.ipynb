{
 "cells": [
  {
   "cell_type": "code",
   "execution_count": 19,
   "metadata": {
    "collapsed": true
   },
   "outputs": [],
   "source": [
    "#!/usr/bin/env python3\n",
    "# -*- coding: utf-8 -*-\n",
    "import pandas as pd\n",
    "import numpy as np\n",
    "import scipy.io as sio \n",
    "import scipy\n",
    "from scipy import stats\n",
    "from scipy.stats import norm # normal distribution\n",
    "from scipy import optimize\n",
    "\n",
    "import matplotlib\n",
    "import matplotlib.pyplot as plt\n",
    "\n",
    "import math\n",
    "import os\n",
    "import random"
   ]
  },
  {
   "cell_type": "code",
   "execution_count": 20,
   "metadata": {
    "collapsed": false
   },
   "outputs": [
    {
     "name": "stdout",
     "output_type": "stream",
     "text": [
      "../chip02/stage/180522_ch02v050r43d3_int75_time10000.mat\n"
     ]
    }
   ],
   "source": [
    "# read paths\n",
    "directory = os.listdir('../chip02/stage')\n",
    "directory.sort()\n",
    "print('../chip02/stage/' + directory[3])"
   ]
  },
  {
   "cell_type": "code",
   "execution_count": 21,
   "metadata": {
    "collapsed": false
   },
   "outputs": [],
   "source": [
    "# read binary data\n",
    "data = []\n",
    "for k, v in enumerate(directory):\n",
    "    data.append(sio.loadmat('../chip02/stage/' + directory[k]))"
   ]
  },
  {
   "cell_type": "code",
   "execution_count": 22,
   "metadata": {
    "collapsed": false
   },
   "outputs": [],
   "source": [
    "# prepare lists\n",
    "fmax_ary = []\n",
    "dfof_ary = []\n",
    "wid_data = []\n",
    "wid_pp = []\n",
    "rtn_pp = []\n",
    "rtn_pp_arr = []\n",
    "df = []\n",
    "for k, v in enumerate(data):\n",
    "    fmax_ary.append(np.array([]))\n",
    "    dfof_ary.append(np.array([]))"
   ]
  },
  {
   "cell_type": "code",
   "execution_count": 23,
   "metadata": {
    "collapsed": false
   },
   "outputs": [],
   "source": [
    "# Extract WID and RTN data\n",
    "for k, v in enumerate(data):\n",
    "    dfof_ary[k] = pd.DataFrame(columns=['slot_num', 'delta_f'])\n",
    "    for key, value in data[k].items():\n",
    "        if key[0] == '_':\n",
    "            continue\n",
    "        fmax_ary[k] = np.append(fmax_ary[k], value.max())\n",
    "        dfof_ary[k].loc[key] = [round(int(key.replace('s', ''))), (value.max() - value.min()) / value.max()]\n",
    "    wid_data.append((fmax_ary[k] - fmax_ary[k].mean()) / fmax_ary[k].mean() * 100)\n",
    "    wid_pp.append(stats.probplot(wid_data[k]))\n",
    "    # wid_pp.append(stats.probplot(fmax_ary[k]))\n",
    "    dfof_ary[k] = dfof_ary[k].sort_values('delta_f')\n",
    "    dfof_ary[k]['y'] = stats.probplot(dfof_ary[k]['delta_f'])[0][0].tolist()\n",
    "    dfof_ary[k]['x'] = stats.probplot(dfof_ary[k]['delta_f'])[0][1].tolist()\n",
    "#     print(np.corrcoef(wid_data[k], dfof_ary[k]))"
   ]
  },
  {
   "cell_type": "code",
   "execution_count": 25,
   "metadata": {
    "collapsed": false
   },
   "outputs": [
    {
     "data": {
      "text/html": [
       "<div>\n",
       "<table border=\"1\" class=\"dataframe\">\n",
       "  <thead>\n",
       "    <tr style=\"text-align: right;\">\n",
       "      <th></th>\n",
       "      <th>a</th>\n",
       "      <th>b</th>\n",
       "      <th>$\\sigma$</th>\n",
       "      <th>$\\mu$</th>\n",
       "      <th>y_min</th>\n",
       "      <th>y_max</th>\n",
       "      <th>x_min</th>\n",
       "      <th>x_max</th>\n",
       "    </tr>\n",
       "  </thead>\n",
       "  <tbody>\n",
       "    <tr>\n",
       "      <th>stage=7</th>\n",
       "      <td>2.991813</td>\n",
       "      <td>12.195206</td>\n",
       "      <td>0.334246</td>\n",
       "      <td>-4.076193</td>\n",
       "      <td>-2.905721</td>\n",
       "      <td>2.905721</td>\n",
       "      <td>0.006426</td>\n",
       "      <td>0.044826</td>\n",
       "    </tr>\n",
       "    <tr>\n",
       "      <th>stage=13</th>\n",
       "      <td>3.732133</td>\n",
       "      <td>16.301643</td>\n",
       "      <td>0.267943</td>\n",
       "      <td>-4.367915</td>\n",
       "      <td>-2.905721</td>\n",
       "      <td>2.905721</td>\n",
       "      <td>0.005820</td>\n",
       "      <td>0.027616</td>\n",
       "    </tr>\n",
       "    <tr>\n",
       "      <th>stage=19</th>\n",
       "      <td>3.964356</td>\n",
       "      <td>17.957195</td>\n",
       "      <td>0.252248</td>\n",
       "      <td>-4.529663</td>\n",
       "      <td>-2.905721</td>\n",
       "      <td>2.905721</td>\n",
       "      <td>0.005182</td>\n",
       "      <td>0.022445</td>\n",
       "    </tr>\n",
       "    <tr>\n",
       "      <th>stage=29</th>\n",
       "      <td>4.415194</td>\n",
       "      <td>20.770548</td>\n",
       "      <td>0.226491</td>\n",
       "      <td>-4.704334</td>\n",
       "      <td>-2.905721</td>\n",
       "      <td>2.905721</td>\n",
       "      <td>0.004689</td>\n",
       "      <td>0.017488</td>\n",
       "    </tr>\n",
       "    <tr>\n",
       "      <th>stage=59</th>\n",
       "      <td>6.063930</td>\n",
       "      <td>30.766687</td>\n",
       "      <td>0.164910</td>\n",
       "      <td>-5.073721</td>\n",
       "      <td>-2.905721</td>\n",
       "      <td>2.905721</td>\n",
       "      <td>0.003876</td>\n",
       "      <td>0.010107</td>\n",
       "    </tr>\n",
       "  </tbody>\n",
       "</table>\n",
       "</div>"
      ],
      "text/plain": [
       "                 a          b  $\\sigma$     $\\mu$     y_min     y_max  \\\n",
       "stage=7   2.991813  12.195206  0.334246 -4.076193 -2.905721  2.905721   \n",
       "stage=13  3.732133  16.301643  0.267943 -4.367915 -2.905721  2.905721   \n",
       "stage=19  3.964356  17.957195  0.252248 -4.529663 -2.905721  2.905721   \n",
       "stage=29  4.415194  20.770548  0.226491 -4.704334 -2.905721  2.905721   \n",
       "stage=59  6.063930  30.766687  0.164910 -5.073721 -2.905721  2.905721   \n",
       "\n",
       "             x_min     x_max  \n",
       "stage=7   0.006426  0.044826  \n",
       "stage=13  0.005820  0.027616  \n",
       "stage=19  0.005182  0.022445  \n",
       "stage=29  0.004689  0.017488  \n",
       "stage=59  0.003876  0.010107  "
      ]
     },
     "execution_count": 25,
     "metadata": {},
     "output_type": "execute_result"
    }
   ],
   "source": [
    "# 最小二乗法を用いて近似式を導出\n",
    "\n",
    "def fit_func(parameter,x,y):\n",
    "    a=parameter[0]\n",
    "    b=parameter[1]\n",
    "    residual=y-(a*x+b)\n",
    "    return residual\n",
    "\n",
    "parameter0=[-6,-4]\n",
    "\n",
    "least_squares_arr =[]\n",
    "for k, v in enumerate(data):\n",
    "    x_arr = np.log(dfof_ary[k]['x'].values)\n",
    "    y_arr = dfof_ary[k]['y'].values\n",
    "    result = scipy.optimize.leastsq(fit_func,parameter0,args=(x_arr,y_arr))[0].tolist()\n",
    "    \n",
    "    # y = a * log(x) + b を x = 変換\n",
    "    result.append(1/ result[0])\n",
    "    result.append(-result[1]/result[0]) \n",
    "    \n",
    "    # 近似直線用の2点    \n",
    "    result.append(min(dfof_ary[k]['y']))\n",
    "    result.append(max(dfof_ary[k]['y']))\n",
    "    \n",
    "    result.append(math.exp(min(dfof_ary[k]['y'])*result[2] + result[3]))\n",
    "    result.append(math.exp(max(dfof_ary[k]['y'])*result[2] + result[3]))\n",
    "    \n",
    "    least_squares_arr.append(result)\n",
    "df = pd.DataFrame(least_squares_arr, \n",
    "                                  index=['stage=7', 'stage=13', 'stage=19', 'stage=29', 'stage=59'],\n",
    "                                  columns=['a', 'b', r'$\\sigma$', r'$\\mu$', 'y_min', 'y_max', 'x_min', 'x_max'])\n",
    "df"
   ]
  },
  {
   "cell_type": "code",
   "execution_count": 28,
   "metadata": {
    "collapsed": true
   },
   "outputs": [],
   "source": [
    "fig, ax = plt.subplots()\n",
    "plt.title(\"QQ-plot for stage\")\n",
    "plt.xscale(\"log\")\n",
    "\n",
    "font = {'size' : 21}\n",
    "matplotlib.rc('font', **font)\n",
    "\n",
    "plt.plot([df.iat[0, 6], df.iat[0, 7]], [df.iat[0, 4], df.iat[0, 5]], color='blue')\n",
    "plt.plot([df.iat[1, 6], df.iat[1, 7]], [df.iat[1, 4], df.iat[1, 5]], color='red')\n",
    "plt.plot([df.iat[2, 6], df.iat[2, 7]], [df.iat[2, 4], df.iat[2, 5]], color='green')\n",
    "plt.plot([df.iat[3, 6], df.iat[3, 7]], [df.iat[3, 4], df.iat[3, 5]], color='orange')\n",
    "plt.plot([df.iat[4, 6], df.iat[4, 7]], [df.iat[4, 4], df.iat[4, 5]], color='yellow')\n",
    "\n",
    "dfof_ary[0].plot.scatter(x='x', y='y', s=20, label='stage=7', ax=ax, color='blue',edgecolors='blue')\n",
    "dfof_ary[1].plot.scatter(x='x', y='y', s=20, label='stage=13', ax=ax, color='red',edgecolors='red')\n",
    "dfof_ary[2].plot.scatter(x='x', y='y', s=20, label='stage=19', ax=ax, color='green',edgecolors='green')\n",
    "dfof_ary[3].plot.scatter(x='x', y='y', s=20, label='stage=29', ax=ax, color='orange',edgecolors='orange')\n",
    "dfof_ary[4].plot.scatter(x='x', y='y', s=20, label='stage=59', ax=ax, color='yellow',edgecolors='yellow', figsize=(20,20))\n",
    "plt.xlabel(r'$\\Delta$' + 'F / Fmax')\n",
    "plt.xlim([0.003, 0.06])\n",
    "plt.ylabel(\"Normal theoretical quantile\")\n",
    "plt.legend(loc=\"lower right\")\n",
    "\n",
    "# annotation\n",
    "for k, v in enumerate(dfof_ary):\n",
    "    for index, row in dfof_ary[k].iterrows():\n",
    "        ax.annotate(row['slot_num'],xy=(row['x'],row['y']),size=1, fontsize=2, color='black')\n",
    "\n",
    "# plt.show()\n",
    "plt.savefig(\"../images/anotation/stage.pdf\")\n",
    "plt.close()"
   ]
  }
 ],
 "metadata": {
  "anaconda-cloud": {},
  "kernelspec": {
   "display_name": "Python [default]",
   "language": "python",
   "name": "python3"
  },
  "language_info": {
   "codemirror_mode": {
    "name": "ipython",
    "version": 3
   },
   "file_extension": ".py",
   "mimetype": "text/x-python",
   "name": "python",
   "nbconvert_exporter": "python",
   "pygments_lexer": "ipython3",
   "version": "3.5.2"
  }
 },
 "nbformat": 4,
 "nbformat_minor": 2
}
